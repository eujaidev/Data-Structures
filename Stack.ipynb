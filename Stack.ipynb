{
 "cells": [
  {
   "cell_type": "markdown",
   "metadata": {},
   "source": [
    "# Stack Implementation"
   ]
  },
  {
   "cell_type": "code",
   "execution_count": 100,
   "metadata": {},
   "outputs": [],
   "source": [
    "class Stack:\n",
    "\n",
    "    def __init__(self):\n",
    "        self.items = []\n",
    "    \n",
    "    def is_empty(self):\n",
    "        return self.items == []\n",
    "    \n",
    "    def push(self, item):\n",
    "        self.items.append(item)\n",
    "\n",
    "    def pop(self):\n",
    "        return self.items.pop()\n",
    "\n",
    "    def peek(self):\n",
    "        return self.items[-1]\n",
    "    \n",
    "    def size(self):\n",
    "        return len(self.items)\n"
   ]
  },
  {
   "cell_type": "markdown",
   "metadata": {},
   "source": [
    "# Reverse a string"
   ]
  },
  {
   "cell_type": "code",
   "execution_count": 82,
   "metadata": {},
   "outputs": [
    {
     "data": {
      "text/plain": [
       "'nohtyp'"
      ]
     },
     "execution_count": 82,
     "metadata": {},
     "output_type": "execute_result"
    }
   ],
   "source": [
    "def reverse(str):\n",
    "    S = Stack()\n",
    "    rev_str = \"\"\n",
    "\n",
    "    for char in str:\n",
    "        S.push(char)\n",
    "    while not S.is_empty():\n",
    "        rev_str += S.pop()\n",
    "\n",
    "    return rev_str\n",
    "\n",
    "reverse(\"python\")"
   ]
  },
  {
   "cell_type": "markdown",
   "metadata": {},
   "source": [
    "# Decimal to base conversion  "
   ]
  },
  {
   "cell_type": "code",
   "execution_count": 12,
   "metadata": {},
   "outputs": [],
   "source": [
    "def dec_2_base(num,base):\n",
    "    S = Stack()\n",
    "    string = \"\"\n",
    "    digits = '0123456789ABCDEF'\n",
    "\n",
    "    while num > 0:\n",
    "        num,rem = divmod(num,base)\n",
    "        S.push(digits[rem])\n",
    "\n",
    "    while not S.is_empty():\n",
    "        string += S.pop()\n",
    "\n",
    "    return string"
   ]
  },
  {
   "cell_type": "code",
   "execution_count": 13,
   "metadata": {},
   "outputs": [
    {
     "data": {
      "text/plain": [
       "'3DF'"
      ]
     },
     "execution_count": 13,
     "metadata": {},
     "output_type": "execute_result"
    }
   ],
   "source": [
    "dec_2_base(991,16)"
   ]
  },
  {
   "cell_type": "markdown",
   "metadata": {},
   "source": [
    "# Balanced Parenthesis"
   ]
  },
  {
   "cell_type": "code",
   "execution_count": null,
   "metadata": {},
   "outputs": [],
   "source": [
    "def par_check(str):\n",
    "    S = Stack()\n",
    "    balnced = True\n",
    "    for par in str:\n",
    "        if par == '(':\n",
    "            S.push(par)\n",
    "        elif S.is_empty():\n",
    "            balanced = False\n",
    "            break\n",
    "        else:\n",
    "            S.pop():\n",
    "        return (balanced and S.is_empty())\n",
    "    \n",
    "print(par_check(\"\"))"
   ]
  },
  {
   "cell_type": "code",
   "execution_count": 37,
   "metadata": {},
   "outputs": [],
   "source": [
    "def check_par(str):\n",
    "    S = Stack()\n",
    "    balanced = True\n",
    "\n",
    "    for char in str:\n",
    "        if char in '([{':\n",
    "            S.push(char)\n",
    "            print(S.items)\n",
    "        elif S.is_empty() or (S.pop()+char not in '(){}[]'):\n",
    "            balanced = False\n",
    "            print(S.items)\n",
    "            break\n",
    "        else:\n",
    "            S.pop()\n",
    "            print(S.items)\n",
    "\n",
    "    return (balanced and S.is_empty())\n",
    "         "
   ]
  },
  {
   "cell_type": "code",
   "execution_count": 38,
   "metadata": {},
   "outputs": [
    {
     "name": "stdout",
     "output_type": "stream",
     "text": [
      "['(']\n",
      "['(', '(']\n",
      "['(', '(', '{']\n",
      "['(', '(']\n"
     ]
    },
    {
     "data": {
      "text/plain": [
       "False"
      ]
     },
     "execution_count": 38,
     "metadata": {},
     "output_type": "execute_result"
    }
   ],
   "source": [
    "check_par('(({)})')"
   ]
  },
  {
   "cell_type": "markdown",
   "metadata": {},
   "source": [
    "##### Write a python program that takes a string as expression as input and returns the number of unbalanced parentheses and their positions."
   ]
  },
  {
   "cell_type": "code",
   "execution_count": 67,
   "metadata": {},
   "outputs": [],
   "source": [
    "def unbalanced_par(exp):\n",
    "    S = Stack()\n",
    "    unbalanced_index = []\n",
    "\n",
    "    for index, char in enumerate(exp):\n",
    "        if char == '(':\n",
    "            S.push((char,index))\n",
    "        elif char == ')':\n",
    "            if not S.is_empty() and S.peek()[0] == '(':\n",
    "                S.pop()\n",
    "            else:\n",
    "                unbalanced_index.append(index)\n",
    "        \n",
    "    while not S.is_empty():\n",
    "        unbalanced_index.append(S.pop()[1])\n",
    "    \n",
    "    return len(unbalanced_index), unbalanced_index"
   ]
  },
  {
   "cell_type": "markdown",
   "metadata": {},
   "source": [
    "#### Write a Python program that takes a string expression as input and returns the index of the first unbalanced parenthesis in the expression, or state that all parentheses are balanced otherwise. "
   ]
  },
  {
   "cell_type": "code",
   "execution_count": 84,
   "metadata": {},
   "outputs": [
    {
     "name": "stdout",
     "output_type": "stream",
     "text": [
      "3\n"
     ]
    }
   ],
   "source": [
    "def first_unbalanced_par(exp):\n",
    "    S = Stack()\n",
    "\n",
    "    for index, char in enumerate(exp):\n",
    "        if char == '(':\n",
    "            S.push((index,char))\n",
    "        elif char == ')':\n",
    "            if not S.is_empty() and S.peek()[1] == '(':\n",
    "                S.pop()\n",
    "            else:\n",
    "                return index\n",
    "\n",
    "    if not S.is_empty():\n",
    "        return S.items[0][0] \n",
    "\n",
    "    return -1\n",
    "\n",
    "print(first_unbalanced_par(\"123((\"))    "
   ]
  },
  {
   "cell_type": "markdown",
   "metadata": {},
   "source": [
    "#### Write a Python program that takes a string expression as input and returns the number of unbalanced parentheses in the expression. Use stack class and enter the expression through keyboard."
   ]
  },
  {
   "cell_type": "code",
   "execution_count": 85,
   "metadata": {},
   "outputs": [
    {
     "name": "stdout",
     "output_type": "stream",
     "text": [
      "2\n"
     ]
    }
   ],
   "source": [
    "def unbalanced_par(exp):\n",
    "    S = Stack()\n",
    "    unbalanced_index = []\n",
    "\n",
    "    for index, char in enumerate(exp):\n",
    "        if char == '(':\n",
    "            S.push((char,index))\n",
    "        elif char == ')':\n",
    "            if not S.is_empty() and S.peek()[0] == '(':\n",
    "                S.pop()\n",
    "            else:\n",
    "                unbalanced_index.append(index)\n",
    "        \n",
    "    while not S.is_empty():\n",
    "        unbalanced_index.append(S.pop()[1])\n",
    "    \n",
    "    return len(unbalanced_index)\n",
    "\n",
    "print(unbalanced_par(\"(1+2)+)(3)-(2-1))\"))"
   ]
  },
  {
   "cell_type": "markdown",
   "metadata": {},
   "source": [
    "# Infix to Postfix"
   ]
  },
  {
   "cell_type": "code",
   "execution_count": 123,
   "metadata": {},
   "outputs": [
    {
     "data": {
      "text/plain": [
       "'A B * C D * +'"
      ]
     },
     "execution_count": 123,
     "metadata": {},
     "output_type": "execute_result"
    }
   ],
   "source": [
    "def infix_to_postfix(exp):\n",
    "    prec = {'*':3, '/':3, '+':2, '-':2, '(':1}\n",
    "    S = Stack()\n",
    "    postfix = []\n",
    "\n",
    "    for char in exp.split():\n",
    "        if char.isalpha():\n",
    "            postfix.append(char)\n",
    "        elif char == '(':\n",
    "            S.push(char)\n",
    "        elif char == ')':\n",
    "            top = S.pop()\n",
    "            while top != '(':\n",
    "                postfix.append(top)\n",
    "                top = S.pop()\n",
    "        else:\n",
    "            while (not S.is_empty() and prec[S.peek()] >= prec[char]):\n",
    "                postfix.append(S.pop())\n",
    "            S.push(char)\n",
    "    while not S.is_empty():\n",
    "        postfix.append(S.pop())\n",
    "    \n",
    "    return ' '.join(postfix)\n",
    "\n",
    "infix_to_postfix('A * B + C * D')"
   ]
  },
  {
   "cell_type": "markdown",
   "metadata": {},
   "source": [
    "# Postfix evaluation"
   ]
  },
  {
   "cell_type": "code",
   "execution_count": 124,
   "metadata": {},
   "outputs": [
    {
     "data": {
      "text/plain": [
       "'3.0'"
      ]
     },
     "execution_count": 124,
     "metadata": {},
     "output_type": "execute_result"
    }
   ],
   "source": [
    "def postfix_eval(exp):\n",
    "    S = Stack()\n",
    "    for char in exp.split():\n",
    "        if char.isnumeric():\n",
    "            S.push(char)\n",
    "        else:\n",
    "            operand_2 = S.pop()\n",
    "            operand_1 = S.pop()\n",
    "            result = str(eval(operand_1 + char + operand_2))\n",
    "            S.push(result)\n",
    "    return S.pop()\n",
    "\n",
    "postfix_eval('7 8 + 3 2 + /')"
   ]
  },
  {
   "cell_type": "markdown",
   "metadata": {},
   "source": [
    "# Infix to Prefix"
   ]
  },
  {
   "cell_type": "code",
   "execution_count": 125,
   "metadata": {},
   "outputs": [
    {
     "data": {
      "text/plain": [
       "'+ * A B * C D'"
      ]
     },
     "execution_count": 125,
     "metadata": {},
     "output_type": "execute_result"
    }
   ],
   "source": [
    "def infix_to_prefix(exp):\n",
    "\n",
    "    # Reverse the infix expression\n",
    "    exp = exp[::-1]\n",
    "\n",
    "    # Replace '(' with ')' and vice versa\n",
    "    exp = exp.replace('(','temp')\n",
    "    exp = exp.replace(')','(')\n",
    "    exp = exp.replace('temp',')')\n",
    "\n",
    "    # Convert to postfix\n",
    "    postfix = infix_to_postfix(exp)\n",
    "    \n",
    "    # Reverse the postfix expression\n",
    "    prefix = postfix[::-1]\n",
    "\n",
    "    return prefix\n",
    "\n",
    "infix_to_prefix('A * B + C * D')"
   ]
  },
  {
   "cell_type": "markdown",
   "metadata": {},
   "source": [
    "# Prefix evaluation"
   ]
  },
  {
   "cell_type": "code",
   "execution_count": 127,
   "metadata": {},
   "outputs": [
    {
     "data": {
      "text/plain": [
       "'3.0'"
      ]
     },
     "execution_count": 127,
     "metadata": {},
     "output_type": "execute_result"
    }
   ],
   "source": [
    "def postfix_eval(exp):\n",
    "    S = Stack()\n",
    "    for char in exp[::-1].split():\n",
    "        if char.isnumeric():\n",
    "            S.push(char)\n",
    "        else:\n",
    "            operand_1 = S.pop()\n",
    "            operand_2 = S.pop()\n",
    "            result = str(eval(operand_1 + char + operand_2))\n",
    "            S.push(result)\n",
    "    return S.pop()\n",
    "\n",
    "postfix_eval('/ + 7 8 + 3 2')"
   ]
  }
 ],
 "metadata": {
  "kernelspec": {
   "display_name": "Python 3",
   "language": "python",
   "name": "python3"
  },
  "language_info": {
   "codemirror_mode": {
    "name": "ipython",
    "version": 3
   },
   "file_extension": ".py",
   "mimetype": "text/x-python",
   "name": "python",
   "nbconvert_exporter": "python",
   "pygments_lexer": "ipython3",
   "version": "3.10.12"
  }
 },
 "nbformat": 4,
 "nbformat_minor": 2
}
